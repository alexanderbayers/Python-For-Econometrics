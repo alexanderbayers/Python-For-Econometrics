{
 "cells": [
  {
   "cell_type": "code",
   "execution_count": 6,
   "metadata": {},
   "outputs": [],
   "source": [
    "import numpy as np\n",
    "import scipy\n",
    "import scipy.stats as stats\n",
    "import matplotlib as mpl\n",
    "import matplotlib.pyplot as plt"
   ]
  },
  {
   "cell_type": "code",
   "execution_count": 70,
   "metadata": {},
   "outputs": [],
   "source": [
    "#Exercise 1\n",
    "mu, sigma = 0, 1\n",
    "s = np.random.normal(mu, sigma, 1000)"
   ]
  },
  {
   "cell_type": "code",
   "execution_count": 23,
   "metadata": {},
   "outputs": [],
   "source": [
    "mu1, sigma1 = 3, 3\n",
    "s1 = np.random.normal(mu1, sigma1, 1000)"
   ]
  },
  {
   "cell_type": "code",
   "execution_count": 90,
   "metadata": {},
   "outputs": [],
   "source": [
    "s2 = np.random.uniform(0,1,1000)\n",
    "s3 = np.random.uniform(-1,1,1000)"
   ]
  },
  {
   "cell_type": "code",
   "execution_count": 91,
   "metadata": {},
   "outputs": [],
   "source": [
    "s4 = np.random.gamma(1, 2, 1000)"
   ]
  },
  {
   "cell_type": "code",
   "execution_count": 92,
   "metadata": {},
   "outputs": [],
   "source": [
    "s5 = np.random.lognormal(0.08, 0.2, 1000)"
   ]
  },
  {
   "cell_type": "code",
   "execution_count": 169,
   "metadata": {},
   "outputs": [
    {
     "name": "stdout",
     "output_type": "stream",
     "text": [
      "KstestResult(statistic=0.4439449169889847, pvalue=0.0)\n"
     ]
    }
   ],
   "source": [
    "#Ex2\n",
    "ncdf1 = stats.norm(0, 1).cdf\n",
    "res1 = stats.kstest(s, ncdf1)\n",
    "\n",
    "ncdf2 = stats.norm(3, 3).cdf\n",
    "res2 = stats.kstest(s1, ncdf2)\n",
    "\n",
    "ncdf3 = stats.uniform(0, 1).cdf\n",
    "res3 = stats.kstest(s2, ncdf3)\n",
    "\n",
    "#-1 to 1 seems weird\n",
    "ncdf4 = stats.uniform(0, 1).cdf\n",
    "res4 = stats.kstest(s3, 'uniform')\n",
    "\n",
    "#Seems weird\n",
    "ncdf5 = stats.gamma(1, 2).cdf\n",
    "res5 = stats.kstest(s4, ncdf5)\n",
    "\n",
    "#Lognormal seems weird\n",
    "ncdf6 = stats.lognorm(0.08, .2).cdf\n",
    "res6 = stats.kstest(s5, ncdf6)\n",
    "\n",
    "print(res6)"
   ]
  },
  {
   "cell_type": "code",
   "execution_count": 123,
   "metadata": {},
   "outputs": [],
   "source": [
    "#Ex3\n",
    "np.random.seed(1)\n",
    "np.random.normal(0, 1)"
   ]
  },
  {
   "cell_type": "code",
   "execution_count": 135,
   "metadata": {},
   "outputs": [
    {
     "name": "stdout",
     "output_type": "stream",
     "text": [
      "0.7538655145186571\n",
      "0.7538655145186571\n"
     ]
    }
   ],
   "source": [
    "#Exercise 4\n",
    "#Set the generator\n",
    "gen1 = np.random.RandomState()\n",
    "gen2 = np.random.RandomState()\n",
    "\n",
    "\n",
    "state1 = gen1.get_state()\n",
    "gen2.set_state(state1)\n",
    "print(gen1.uniform())\n",
    "print(gen2.uniform())"
   ]
  },
  {
   "cell_type": "code",
   "execution_count": 139,
   "metadata": {},
   "outputs": [],
   "source": [
    "#Exercise 5\n",
    "def summary_stats(data):\n",
    "    mean = np.mean(data)\n",
    "    st_dev = np.std(data)\n",
    "    skew = stats.skew(data)\n",
    "    kurtosis = stats.kurtosis(data, fisher = False)\n",
    "    return [mean, st_dev, skew, kurtosis]\n",
    "    "
   ]
  },
  {
   "cell_type": "code",
   "execution_count": 157,
   "metadata": {},
   "outputs": [],
   "source": [
    "#Exercise 6\n",
    "series2 = np.random.multivariate_normal(np.array([0, 0]), np.array([[1, -.5], [-.5, 1]]), 100)\n",
    "res_pearson = scipy.stats.pearsonr(series2[:,0], series2[:,1])\n",
    "res_spearman = scipy.stats.spearmanr(series2[:,0], series2[:,1])\n",
    "res_kendall = scipy.stats.kendalltau(series2[:,0], series2[:,1])"
   ]
  },
  {
   "cell_type": "code",
   "execution_count": 160,
   "metadata": {},
   "outputs": [
    {
     "ename": "TypeError",
     "evalue": "cdf() missing 1 required positional argument: 'x'",
     "output_type": "error",
     "traceback": [
      "\u001b[0;31m---------------------------------------------------------------------------\u001b[0m",
      "\u001b[0;31mTypeError\u001b[0m                                 Traceback (most recent call last)",
      "\u001b[0;32m<ipython-input-160-ad45fdc3b5b9>\u001b[0m in \u001b[0;36m<module>\u001b[0;34m()\u001b[0m\n\u001b[0;32m----> 1\u001b[0;31m \u001b[0mncdf5\u001b[0m\u001b[0;34m(\u001b[0m\u001b[0;34m)\u001b[0m\u001b[0;34m.\u001b[0m\u001b[0mmedian\u001b[0m\u001b[0;34m\u001b[0m\u001b[0m\n\u001b[0m",
      "\u001b[0;31mTypeError\u001b[0m: cdf() missing 1 required positional argument: 'x'"
     ]
    }
   ],
   "source": [
    "stats.gamma(1).cdf"
   ]
  },
  {
   "cell_type": "code",
   "execution_count": null,
   "metadata": {},
   "outputs": [],
   "source": []
  }
 ],
 "metadata": {
  "kernelspec": {
   "display_name": "Python [conda env:econometrics]",
   "language": "python",
   "name": "conda-env-econometrics-py"
  },
  "language_info": {
   "codemirror_mode": {
    "name": "ipython",
    "version": 3
   },
   "file_extension": ".py",
   "mimetype": "text/x-python",
   "name": "python",
   "nbconvert_exporter": "python",
   "pygments_lexer": "ipython3",
   "version": "3.7.0"
  }
 },
 "nbformat": 4,
 "nbformat_minor": 2
}
